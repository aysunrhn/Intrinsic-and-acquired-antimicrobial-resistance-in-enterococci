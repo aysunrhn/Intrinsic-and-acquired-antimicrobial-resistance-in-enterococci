{
 "cells": [
  {
   "cell_type": "markdown",
   "id": "091fea42-9b1d-4535-802f-6015d5891f48",
   "metadata": {},
   "source": [
    "# Miscellaneous code and commands used in our studyof intrinsic resistance in enterococci\n",
    "\n",
    "### Data retrieval, preprocessing and quality checks\n",
    "\n",
    "- Dowload metadata from *Enterococcus* genome entries in the NCBI Assembly database\n",
    "\n",
    "```bash\n",
    "./utils/download_ncbi_assembly_metadata.sh enterococcus enterococcus_ncbi_assembly_metadata.tsv\n",
    "```\n",
    "\n",
    "- Download the assembly fasta and gff files\n",
    "\n",
    "```python\n",
    "import os\n",
    "with open('enterococcus_ncbi_assembly_metadata.tsv', 'r') as f:\n",
    "    for line in f:\n",
    "        flds = line.strip().split('\\t')\n",
    "        acc = flds[6]\n",
    "        asm = flds[4]\n",
    "        asm_name = acc + '_' + asm\n",
    "        ftp_url = flds[17]\n",
    "        fna_url = ftp_url + '/' + asm_name + '_' + '_genomic.fna.gz'\n",
    "        faa_url = ftp_url + '/' + asm_name + '_' + '_protein.faa.gz'\n",
    "        gff_url = ftp_url + '/' + asm_name + '_' + '_genomic.gff.gz'\n",
    "\n",
    "        os.system('wget {} -P data/ncbi/genome'.format(fna_url))\n",
    "        os.system('wget {} -P data/ncbi/protein'.format(faa_url))\n",
    "        os.system('wget {} -P data/ncbi/annotation'.format(gff_url))\n",
    "```\n",
    "\n",
    "- Run CheckM to calculate assembly metrics\n",
    "```bash\n",
    "checkm analyze firmicutes.ms data/ncbi/genome checkm_out -t 8 --ali --nt -x fa\n",
    "```\n",
    "\n",
    "- Run HMMer against the Phylosift database\n",
    "```python\n",
    "import os\n",
    "for f in os.listdir('data/ncbi/protein'):\n",
    "    file_name = os.path.basename(f)\n",
    "    genome = file_name.replace('.faa', '')\n",
    "    cmd = \"hmmsearch --tblout phylosift_out/{}.out PhyloSift.hmm {}\".format(genome, f)\n",
    "    os.system(cmd)\n",
    "```\n",
    "\n",
    "### Genome annotation using prokka\n",
    "\n",
    "- Run prokka on genome assemblies with *Enterococcus* specific reference genes```\n",
    "\n",
    "```python\n",
    "import os\n",
    "for f in os.listdir('data/ncbi/genome'):\n",
    "    fna_file = os.path.basename(f)\n",
    "    genome = fna_file.replace('.fna', '')\n",
    "    cmd = 'prokka --outdir {} --prefix {} --centre X --addgenes --locustag {} --cpus 12 --compliant --proteins data/enterococcus_refgenes.faa {}'.format(genome, genome, genome, fna_file)\n",
    "    os.system(cmd)\n",
    "```\n",
    "\n"
   ]
  },
  {
   "cell_type": "code",
   "execution_count": null,
   "id": "e1d10d3d-827c-43d5-8076-19c40ae20880",
   "metadata": {},
   "outputs": [],
   "source": []
  }
 ],
 "metadata": {
  "kernelspec": {
   "display_name": "Python 3 (Spyder)",
   "language": "python3",
   "name": "python3"
  },
  "language_info": {
   "codemirror_mode": {
    "name": "ipython",
    "version": 3
   },
   "file_extension": ".py",
   "mimetype": "text/x-python",
   "name": "python",
   "nbconvert_exporter": "python",
   "pygments_lexer": "ipython3",
   "version": "3.8.18"
  }
 },
 "nbformat": 4,
 "nbformat_minor": 5
}
